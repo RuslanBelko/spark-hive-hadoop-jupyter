{
 "cells": [
  {
   "cell_type": "code",
   "execution_count": 1,
   "id": "37974baf-bcf5-484a-a657-acc928dbb29a",
   "metadata": {},
   "outputs": [],
   "source": [
    "import findspark\n",
    "findspark.init()\n",
    "import pyspark"
   ]
  },
  {
   "cell_type": "code",
   "execution_count": 2,
   "id": "bc3e37ac-d889-48d1-92fc-fa055d60d342",
   "metadata": {},
   "outputs": [],
   "source": [
    "from pyspark.sql import SparkSession"
   ]
  },
  {
   "cell_type": "code",
   "execution_count": 3,
   "id": "53467210-5b89-4d50-a316-c4daf3159004",
   "metadata": {},
   "outputs": [
    {
     "name": "stderr",
     "output_type": "stream",
     "text": [
      "Setting default log level to \"WARN\".\n",
      "To adjust logging level use sc.setLogLevel(newLevel). For SparkR, use setLogLevel(newLevel).\n",
      "25/08/27 12:04:04 WARN NativeCodeLoader: Unable to load native-hadoop library for your platform... using builtin-java classes where applicable\n"
     ]
    }
   ],
   "source": [
    "\n",
    "# .config('spark.sql.warehouse.dir', '/home/hdoop/apache-hive-4.0.1-bin') \\\n",
    "\n",
    "spark = SparkSession.builder \\\n",
    "    .appName('Spark App') \\\n",
    "    .config('spark.sql.warehouse.dir', '/user/hive/warehouse') \\\n",
    "    .enableHiveSupport() \\\n",
    "    .getOrCreate()"
   ]
  },
  {
   "cell_type": "code",
   "execution_count": 4,
   "id": "7b7729f4-9238-40aa-8887-b177e6a11837",
   "metadata": {},
   "outputs": [
    {
     "name": "stderr",
     "output_type": "stream",
     "text": [
      "25/08/27 12:04:14 WARN HiveConf: HiveConf of name hive.stats.jdbc.timeout does not exist\n",
      "25/08/27 12:04:14 WARN HiveConf: HiveConf of name hive.stats.retries.wait does not exist\n",
      "25/08/27 12:04:17 WARN ObjectStore: Version information not found in metastore. hive.metastore.schema.verification is not enabled so recording the schema version 2.3.0\n",
      "25/08/27 12:04:17 WARN ObjectStore: setMetaStoreSchemaVersion called but recording version is disabled: version = 2.3.0, comment = Set by MetaStore UNKNOWN@172.17.0.2\n",
      "25/08/27 12:04:17 WARN ObjectStore: Failed to get database default, returning NoSuchObjectException\n"
     ]
    },
    {
     "name": "stdout",
     "output_type": "stream",
     "text": [
      "+---------+\n",
      "|namespace|\n",
      "+---------+\n",
      "|  default|\n",
      "+---------+\n",
      "\n"
     ]
    }
   ],
   "source": [
    "spark.sql(\"SHOW DATABASES\").show()"
   ]
  },
  {
   "cell_type": "code",
   "execution_count": 5,
   "id": "655e7b2d-5a17-46eb-8f92-3411c8e48b09",
   "metadata": {},
   "outputs": [
    {
     "name": "stderr",
     "output_type": "stream",
     "text": [
      "25/08/27 12:04:19 WARN ObjectStore: Failed to get database global_temp, returning NoSuchObjectException\n"
     ]
    },
    {
     "data": {
      "text/plain": [
       "DataFrame[]"
      ]
     },
     "execution_count": 5,
     "metadata": {},
     "output_type": "execute_result"
    }
   ],
   "source": [
    "spark.sql(\"USE default\")"
   ]
  },
  {
   "cell_type": "code",
   "execution_count": 6,
   "id": "db57ec73-054f-423a-bcd5-6d3f67e21d0f",
   "metadata": {},
   "outputs": [
    {
     "name": "stdout",
     "output_type": "stream",
     "text": [
      "+---------+---------+-----------+\n",
      "|namespace|tableName|isTemporary|\n",
      "+---------+---------+-----------+\n",
      "+---------+---------+-----------+\n",
      "\n"
     ]
    }
   ],
   "source": [
    "spark.sql(\"SHOW TABLES\").show()"
   ]
  },
  {
   "cell_type": "code",
   "execution_count": 8,
   "id": "71711ab2-7d0e-4b01-b607-3b5df9364b6c",
   "metadata": {},
   "outputs": [
    {
     "name": "stderr",
     "output_type": "stream",
     "text": [
      "25/08/27 12:05:26 WARN HiveMetaStore: Location: file:/user/hive/warehouse/employees specified for non-external table:employees\n",
      "chgrp: changing ownership of 'file:///user/hive/warehouse/employees': chown: changing group of '/user/hive/warehouse/employees': Operation not permitted\n"
     ]
    },
    {
     "data": {
      "text/plain": [
       "DataFrame[]"
      ]
     },
     "execution_count": 8,
     "metadata": {},
     "output_type": "execute_result"
    }
   ],
   "source": [
    "spark.sql('''DROP TABLE IF EXISTS employees''')\n",
    "\n",
    "spark.sql(\"\"\"\n",
    "CREATE TABLE employees (\n",
    "    id INT,\n",
    "    name STRING,\n",
    "    salary FLOAT\n",
    ") USING hive\n",
    "\"\"\")"
   ]
  },
  {
   "cell_type": "code",
   "execution_count": 9,
   "id": "1171c9d0-9d73-494a-9c1b-e7ccc3db38a7",
   "metadata": {},
   "outputs": [
    {
     "data": {
      "text/plain": [
       "DataFrame[]"
      ]
     },
     "execution_count": 9,
     "metadata": {},
     "output_type": "execute_result"
    }
   ],
   "source": [
    "spark.sql(\"INSERT INTO employees VALUES(1, 'John Doe', 50000.0)\")\n",
    "spark.sql(\"INSERT INTO employees VALUES(2, 'Jane Smith', 60000.0)\")"
   ]
  },
  {
   "cell_type": "code",
   "execution_count": 10,
   "id": "505f1e6f-58a3-4e2d-9e46-301b7f439c55",
   "metadata": {},
   "outputs": [
    {
     "name": "stdout",
     "output_type": "stream",
     "text": [
      "+---+----------+-------+\n",
      "| id|      name| salary|\n",
      "+---+----------+-------+\n",
      "|  1|  John Doe|50000.0|\n",
      "|  2|Jane Smith|60000.0|\n",
      "+---+----------+-------+\n",
      "\n"
     ]
    }
   ],
   "source": [
    "results = spark.sql(\"SELECT * FROM employees\")\n",
    "results.show()"
   ]
  },
  {
   "cell_type": "code",
   "execution_count": 11,
   "id": "f285609e-4898-4f34-a01f-0bde285f2862",
   "metadata": {},
   "outputs": [],
   "source": [
    "spark.stop()"
   ]
  },
  {
   "cell_type": "code",
   "execution_count": null,
   "id": "d7a043a3-d34d-4d7a-b95b-93df6a447e1e",
   "metadata": {},
   "outputs": [],
   "source": []
  }
 ],
 "metadata": {
  "kernelspec": {
   "display_name": "Python 3 (ipykernel)",
   "language": "python",
   "name": "python3"
  },
  "language_info": {
   "codemirror_mode": {
    "name": "ipython",
    "version": 3
   },
   "file_extension": ".py",
   "mimetype": "text/x-python",
   "name": "python",
   "nbconvert_exporter": "python",
   "pygments_lexer": "ipython3",
   "version": "3.12.3"
  }
 },
 "nbformat": 4,
 "nbformat_minor": 5
}
